{
 "cells": [
  {
   "cell_type": "code",
   "execution_count": 1,
   "metadata": {
    "collapsed": true,
    "pycharm": {
     "name": "#%% import the packages in need\n"
    }
   },
   "outputs": [],
   "source": [
    "import pandas as pd\n",
    "import numpy as np\n",
    "import matplotlib.pyplot as plt\n",
    "import seaborn as sns\n",
    "import copy\n",
    "from scipy import stats\n",
    "from sklearn.ensemble import RandomForestRegressor\n",
    "import warnings\n",
    "\n",
    "warnings.filterwarnings('ignore')"
   ]
  },
  {
   "cell_type": "markdown",
   "metadata": {},
   "source": [
    "理解数据"
   ]
  },
  {
   "cell_type": "code",
   "execution_count": 2,
   "metadata": {
    "pycharm": {
     "name": "#%%\n"
    }
   },
   "outputs": [
    {
     "name": "stdout",
     "output_type": "stream",
     "text": [
      "<class 'pandas.core.frame.DataFrame'>\n",
      "RangeIndex: 150000 entries, 0 to 149999\n",
      "Data columns (total 11 columns):\n",
      " #   Column                                Non-Null Count   Dtype  \n",
      "---  ------                                --------------   -----  \n",
      " 0   SeriousDlqin2yrs                      150000 non-null  int64  \n",
      " 1   RevolvingUtilizationOfUnsecuredLines  150000 non-null  float64\n",
      " 2   age                                   150000 non-null  int64  \n",
      " 3   NumberOfTime30-59DaysPastDueNotWorse  150000 non-null  int64  \n",
      " 4   DebtRatio                             150000 non-null  float64\n",
      " 5   MonthlyIncome                         120269 non-null  float64\n",
      " 6   NumberOfOpenCreditLinesAndLoans       150000 non-null  int64  \n",
      " 7   NumberOfTimes90DaysLate               150000 non-null  int64  \n",
      " 8   NumberRealEstateLoansOrLines          150000 non-null  int64  \n",
      " 9   NumberOfTime60-89DaysPastDueNotWorse  150000 non-null  int64  \n",
      " 10  NumberOfDependents                    146076 non-null  float64\n",
      "dtypes: float64(4), int64(7)\n",
      "memory usage: 12.6 MB\n"
     ]
    }
   ],
   "source": [
    "data=pd.read_csv(\"data/cs-training.csv\")\n",
    "data=data.iloc[:,1:] #去掉第一列无用序号\n",
    "data.info()\n"
   ]
  },
  {
   "cell_type": "markdown",
   "metadata": {},
   "source": [
    "各个数据之间的关系\n",
    "\n",
    "| Variable Name                        | Description                                                  |\n",
    "| ------------------------------------ | ------------------------------------------------------------ |\n",
    "| SeriousDlqin2yrs                     | 两年内超过90天或更糟的逾期拖欠（是/否）                                    |\n",
    "| RevolvingUtilizationOfUnsecuredLines | 贷款及信用卡可用额度与总额度比例                             |\n",
    "| age                                  | 借款人当时的年龄                                             |\n",
    "| NumberOfTime30-59DaysPastDueNotWorse | 30-59天逾期但不糟糕次数                                      |\n",
    "| DebtRatio                            | 负债比率                                                     |\n",
    "| MonthlyIncome                        | 月收入                                                       |\n",
    "| NumberOfOpenCreditLinesAndLoans      | 开放式信贷和贷款数量，开放式贷款（分期付款如汽车贷款或抵押贷款）和信贷（如信用卡）的数量 |\n",
    "| NumberOfTimes90DaysLate              | 90天逾期次数                                                 |\n",
    "| NumberRealEstateLoansOrLines         | 不动产贷款或额度数量：抵押贷款和不动产放款包括房屋净值信贷额度 |\n",
    "| NumberOfTime60-89DaysPastDueNotWorse | 60-89天逾期但不糟糕次数：借款人在过去两年内有60-89天逾期还款但不糟糕的次数 |\n",
    "| NumberOfDependents                   | 不包括本人在内的家属数量                                     |\n",
    "\n",
    "共有11个特征共以下几类：\n",
    "1. 逾期相关特征：逾期超过一个月次数，逾期超过两个月次数，逾期超过三个月次数，是否属于严重逾期\n",
    "2. 个人特征：年龄，月收入，家属数量\n",
    "3. 个人贷款信息： 贷款可用额度和总额度比例，负债比率，开放贷款数量，不动产额度数量"
   ]
  },
  {
   "cell_type": "markdown",
   "metadata": {},
   "source": [
    "通过data.info可以看出，月收入和家属数量存在缺失值。\n",
    "月收入缺失值较多且特征较为重要，选择随机森林算法进行缺失值填充。\n",
    "家属数量缺失值较少，选择直接删除。\n",
    "\n",
    "同时，需要注意到，在部分特征中，空值存在意义，不可以被删除或修改。"
   ]
  },
  {
   "cell_type": "code",
   "execution_count": 9,
   "metadata": {
    "pycharm": {
     "name": "#%%\n"
    }
   },
   "outputs": [
    {
     "name": "stdout",
     "output_type": "stream",
     "text": [
      "[8311. 1159. 8311. ... 1159. 2554. 2554.]\n",
      "<class 'pandas.core.frame.DataFrame'>\n",
      "Int64Index: 145563 entries, 0 to 149999\n",
      "Data columns (total 11 columns):\n",
      " #   Column                                Non-Null Count   Dtype  \n",
      "---  ------                                --------------   -----  \n",
      " 0   SeriousDlqin2yrs                      145563 non-null  int64  \n",
      " 1   RevolvingUtilizationOfUnsecuredLines  145563 non-null  float64\n",
      " 2   age                                   145563 non-null  int64  \n",
      " 3   NumberOfTime30-59DaysPastDueNotWorse  145563 non-null  int64  \n",
      " 4   DebtRatio                             145563 non-null  float64\n",
      " 5   MonthlyIncome                         145563 non-null  float64\n",
      " 6   NumberOfOpenCreditLinesAndLoans       145563 non-null  int64  \n",
      " 7   NumberOfTimes90DaysLate               145563 non-null  int64  \n",
      " 8   NumberRealEstateLoansOrLines          145563 non-null  int64  \n",
      " 9   NumberOfTime60-89DaysPastDueNotWorse  145563 non-null  int64  \n",
      " 10  NumberOfDependents                    145563 non-null  float64\n",
      "dtypes: float64(4), int64(7)\n",
      "memory usage: 13.3 MB\n"
     ]
    }
   ],
   "source": [
    "# 用随机森林对确实之预测填充函数\n",
    "from sklearn.ensemble import RandomForestRegressor\n",
    "from sklearn.datasets import make_regression\n",
    "\n",
    "def set_missing(df):\n",
    "    process_df = df.iloc[:,[5,0,1,2,3,4,6,7,8,9]] # 把已有的数值型特征取出来\n",
    "    # 分成已知该特征和未知该特征两部分\n",
    "    known = process_df[process_df.MonthlyIncome.notnull()].values\n",
    "    unknown = process_df[process_df.MonthlyIncome.isnull()].values\n",
    "    X = known[:, 1:]    # X为特征属性值\n",
    "    y = known[:, 0]    # y为结果标签值\n",
    "    rfr = RandomForestRegressor(random_state=0, n_estimators=200,max_depth=3,n_jobs=-1)\n",
    "    rfr.fit(X,y)\n",
    "    # 用得到的模型进行未知特征值预测 月收入\n",
    "    predicted = rfr.predict(unknown[:, 1:]).round(0)\n",
    "    print(predicted)\n",
    "    # 用得到的预测结果填补原缺失数据\n",
    "    df.loc[df.MonthlyIncome.isnull(), 'MonthlyIncome'] = predicted\n",
    "    return df\n",
    "data=set_missing(data)#用随机森林填补比较多的缺失值\n",
    "data=data.dropna()#删除比较少的缺失值 ：NumberOfDependents\n",
    "data = data.drop_duplicates()#删除重复项\n",
    "data.info()"
   ]
  },
  {
   "cell_type": "markdown",
   "metadata": {},
   "source": [
    "上述代码的一些问题：\n",
    "dataframe中部分函数进行了替换\n",
    "ix -> iloc\n",
    "as_matrix -> values\n"
   ]
  }
 ],
 "metadata": {
  "kernelspec": {
   "display_name": "PyCharm (DataModelStudy)",
   "language": "python",
   "name": "pycharm-92d2940d"
  },
  "language_info": {
   "codemirror_mode": {
    "name": "ipython",
    "version": 3
   },
   "file_extension": ".py",
   "mimetype": "text/x-python",
   "name": "python",
   "nbconvert_exporter": "python",
   "pygments_lexer": "ipython3",
   "version": "3.8.3"
  }
 },
 "nbformat": 4,
 "nbformat_minor": 1
}
